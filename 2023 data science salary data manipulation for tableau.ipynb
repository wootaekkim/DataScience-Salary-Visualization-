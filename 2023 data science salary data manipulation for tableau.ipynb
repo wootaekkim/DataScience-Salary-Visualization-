{
 "cells": [
  {
   "cell_type": "markdown",
   "id": "616e9d61",
   "metadata": {},
   "source": [
    "Here I perform data manipulation so that I can easily make them into a dashboard to give summary fo the data.<br>\n",
    "To do so, first need to look at which features it has.<br>\n",
    "This Kaggle Data Science Job Salaries Dataset contains 11 columns, each are: <br>\n",
    "<br>\n",
    "1. work_year: The year the salary was paid.\n",
    "2. experience_level: The experience level in the job during the year\n",
    "3. employment_type: The type of employment for the role\n",
    "4. job_title: The role worked in during the year.\n",
    "5. salary: The total gross salary amount paid.\n",
    "6. salary_currency: The currency of the salary paid as an ISO 4217 currency code.\n",
    "7. salaryinusd: The salary in USD\n",
    "8. employee_residence: Employee's primary country of residence in during the work year as an ISO 3166 country code.\n",
    "9. remote_ratio: The overall amount of work done remotely\n",
    "10. company_location: The country of the employer's main office or contracting branch\n",
    "11. company_size: The median number of people that worked for the company during the year\n",
    "\n",
    "Now we now which columns we have, we need to import necessary libraries for data transformation/cleaning"
   ]
  },
  {
   "cell_type": "code",
   "execution_count": 1,
   "id": "b3ed006e",
   "metadata": {},
   "outputs": [],
   "source": [
    "# import libraries\n",
    "import numpy as np\n",
    "import seaborn as sns\n",
    "import pandas as pd\n",
    "import matplotlib.pyplot as plt"
   ]
  },
  {
   "cell_type": "code",
   "execution_count": 2,
   "id": "c9efb43f",
   "metadata": {},
   "outputs": [
    {
     "data": {
      "text/html": [
       "<div>\n",
       "<style scoped>\n",
       "    .dataframe tbody tr th:only-of-type {\n",
       "        vertical-align: middle;\n",
       "    }\n",
       "\n",
       "    .dataframe tbody tr th {\n",
       "        vertical-align: top;\n",
       "    }\n",
       "\n",
       "    .dataframe thead th {\n",
       "        text-align: right;\n",
       "    }\n",
       "</style>\n",
       "<table border=\"1\" class=\"dataframe\">\n",
       "  <thead>\n",
       "    <tr style=\"text-align: right;\">\n",
       "      <th></th>\n",
       "      <th>work_year</th>\n",
       "      <th>experience_level</th>\n",
       "      <th>employment_type</th>\n",
       "      <th>job_title</th>\n",
       "      <th>salary</th>\n",
       "      <th>salary_currency</th>\n",
       "      <th>salary_in_usd</th>\n",
       "      <th>employee_residence</th>\n",
       "      <th>remote_ratio</th>\n",
       "      <th>company_location</th>\n",
       "      <th>company_size</th>\n",
       "    </tr>\n",
       "  </thead>\n",
       "  <tbody>\n",
       "    <tr>\n",
       "      <th>0</th>\n",
       "      <td>2023</td>\n",
       "      <td>SE</td>\n",
       "      <td>FT</td>\n",
       "      <td>Principal Data Scientist</td>\n",
       "      <td>80000</td>\n",
       "      <td>EUR</td>\n",
       "      <td>85847</td>\n",
       "      <td>ES</td>\n",
       "      <td>100</td>\n",
       "      <td>ES</td>\n",
       "      <td>L</td>\n",
       "    </tr>\n",
       "    <tr>\n",
       "      <th>1</th>\n",
       "      <td>2023</td>\n",
       "      <td>MI</td>\n",
       "      <td>CT</td>\n",
       "      <td>ML Engineer</td>\n",
       "      <td>30000</td>\n",
       "      <td>USD</td>\n",
       "      <td>30000</td>\n",
       "      <td>US</td>\n",
       "      <td>100</td>\n",
       "      <td>US</td>\n",
       "      <td>S</td>\n",
       "    </tr>\n",
       "    <tr>\n",
       "      <th>2</th>\n",
       "      <td>2023</td>\n",
       "      <td>MI</td>\n",
       "      <td>CT</td>\n",
       "      <td>ML Engineer</td>\n",
       "      <td>25500</td>\n",
       "      <td>USD</td>\n",
       "      <td>25500</td>\n",
       "      <td>US</td>\n",
       "      <td>100</td>\n",
       "      <td>US</td>\n",
       "      <td>S</td>\n",
       "    </tr>\n",
       "    <tr>\n",
       "      <th>3</th>\n",
       "      <td>2023</td>\n",
       "      <td>SE</td>\n",
       "      <td>FT</td>\n",
       "      <td>Data Scientist</td>\n",
       "      <td>175000</td>\n",
       "      <td>USD</td>\n",
       "      <td>175000</td>\n",
       "      <td>CA</td>\n",
       "      <td>100</td>\n",
       "      <td>CA</td>\n",
       "      <td>M</td>\n",
       "    </tr>\n",
       "    <tr>\n",
       "      <th>4</th>\n",
       "      <td>2023</td>\n",
       "      <td>SE</td>\n",
       "      <td>FT</td>\n",
       "      <td>Data Scientist</td>\n",
       "      <td>120000</td>\n",
       "      <td>USD</td>\n",
       "      <td>120000</td>\n",
       "      <td>CA</td>\n",
       "      <td>100</td>\n",
       "      <td>CA</td>\n",
       "      <td>M</td>\n",
       "    </tr>\n",
       "  </tbody>\n",
       "</table>\n",
       "</div>"
      ],
      "text/plain": [
       "   work_year experience_level employment_type                 job_title  \\\n",
       "0       2023               SE              FT  Principal Data Scientist   \n",
       "1       2023               MI              CT               ML Engineer   \n",
       "2       2023               MI              CT               ML Engineer   \n",
       "3       2023               SE              FT            Data Scientist   \n",
       "4       2023               SE              FT            Data Scientist   \n",
       "\n",
       "   salary salary_currency  salary_in_usd employee_residence  remote_ratio  \\\n",
       "0   80000             EUR          85847                 ES           100   \n",
       "1   30000             USD          30000                 US           100   \n",
       "2   25500             USD          25500                 US           100   \n",
       "3  175000             USD         175000                 CA           100   \n",
       "4  120000             USD         120000                 CA           100   \n",
       "\n",
       "  company_location company_size  \n",
       "0               ES            L  \n",
       "1               US            S  \n",
       "2               US            S  \n",
       "3               CA            M  \n",
       "4               CA            M  "
      ]
     },
     "execution_count": 2,
     "metadata": {},
     "output_type": "execute_result"
    }
   ],
   "source": [
    "# load dataset\n",
    "df = pd.read_csv('/Users/wootaekkim/Desktop/youtube learning/ds_salaries.csv')\n",
    "df.head()"
   ]
  },
  {
   "cell_type": "code",
   "execution_count": 3,
   "id": "4ce560b9",
   "metadata": {},
   "outputs": [
    {
     "data": {
      "text/html": [
       "<div>\n",
       "<style scoped>\n",
       "    .dataframe tbody tr th:only-of-type {\n",
       "        vertical-align: middle;\n",
       "    }\n",
       "\n",
       "    .dataframe tbody tr th {\n",
       "        vertical-align: top;\n",
       "    }\n",
       "\n",
       "    .dataframe thead th {\n",
       "        text-align: right;\n",
       "    }\n",
       "</style>\n",
       "<table border=\"1\" class=\"dataframe\">\n",
       "  <thead>\n",
       "    <tr style=\"text-align: right;\">\n",
       "      <th></th>\n",
       "      <th>work_year</th>\n",
       "      <th>experience_level</th>\n",
       "      <th>employment_type</th>\n",
       "      <th>job_title</th>\n",
       "      <th>salary</th>\n",
       "      <th>salary_currency</th>\n",
       "      <th>salary_in_usd</th>\n",
       "      <th>employee_residence</th>\n",
       "      <th>remote_ratio</th>\n",
       "      <th>company_location</th>\n",
       "      <th>company_size</th>\n",
       "    </tr>\n",
       "  </thead>\n",
       "  <tbody>\n",
       "    <tr>\n",
       "      <th>3750</th>\n",
       "      <td>2020</td>\n",
       "      <td>SE</td>\n",
       "      <td>FT</td>\n",
       "      <td>Data Scientist</td>\n",
       "      <td>412000</td>\n",
       "      <td>USD</td>\n",
       "      <td>412000</td>\n",
       "      <td>US</td>\n",
       "      <td>100</td>\n",
       "      <td>US</td>\n",
       "      <td>L</td>\n",
       "    </tr>\n",
       "    <tr>\n",
       "      <th>3751</th>\n",
       "      <td>2021</td>\n",
       "      <td>MI</td>\n",
       "      <td>FT</td>\n",
       "      <td>Principal Data Scientist</td>\n",
       "      <td>151000</td>\n",
       "      <td>USD</td>\n",
       "      <td>151000</td>\n",
       "      <td>US</td>\n",
       "      <td>100</td>\n",
       "      <td>US</td>\n",
       "      <td>L</td>\n",
       "    </tr>\n",
       "    <tr>\n",
       "      <th>3752</th>\n",
       "      <td>2020</td>\n",
       "      <td>EN</td>\n",
       "      <td>FT</td>\n",
       "      <td>Data Scientist</td>\n",
       "      <td>105000</td>\n",
       "      <td>USD</td>\n",
       "      <td>105000</td>\n",
       "      <td>US</td>\n",
       "      <td>100</td>\n",
       "      <td>US</td>\n",
       "      <td>S</td>\n",
       "    </tr>\n",
       "    <tr>\n",
       "      <th>3753</th>\n",
       "      <td>2020</td>\n",
       "      <td>EN</td>\n",
       "      <td>CT</td>\n",
       "      <td>Business Data Analyst</td>\n",
       "      <td>100000</td>\n",
       "      <td>USD</td>\n",
       "      <td>100000</td>\n",
       "      <td>US</td>\n",
       "      <td>100</td>\n",
       "      <td>US</td>\n",
       "      <td>L</td>\n",
       "    </tr>\n",
       "    <tr>\n",
       "      <th>3754</th>\n",
       "      <td>2021</td>\n",
       "      <td>SE</td>\n",
       "      <td>FT</td>\n",
       "      <td>Data Science Manager</td>\n",
       "      <td>7000000</td>\n",
       "      <td>INR</td>\n",
       "      <td>94665</td>\n",
       "      <td>IN</td>\n",
       "      <td>50</td>\n",
       "      <td>IN</td>\n",
       "      <td>L</td>\n",
       "    </tr>\n",
       "  </tbody>\n",
       "</table>\n",
       "</div>"
      ],
      "text/plain": [
       "      work_year experience_level employment_type                 job_title  \\\n",
       "3750       2020               SE              FT            Data Scientist   \n",
       "3751       2021               MI              FT  Principal Data Scientist   \n",
       "3752       2020               EN              FT            Data Scientist   \n",
       "3753       2020               EN              CT     Business Data Analyst   \n",
       "3754       2021               SE              FT      Data Science Manager   \n",
       "\n",
       "       salary salary_currency  salary_in_usd employee_residence  remote_ratio  \\\n",
       "3750   412000             USD         412000                 US           100   \n",
       "3751   151000             USD         151000                 US           100   \n",
       "3752   105000             USD         105000                 US           100   \n",
       "3753   100000             USD         100000                 US           100   \n",
       "3754  7000000             INR          94665                 IN            50   \n",
       "\n",
       "     company_location company_size  \n",
       "3750               US            L  \n",
       "3751               US            L  \n",
       "3752               US            S  \n",
       "3753               US            L  \n",
       "3754               IN            L  "
      ]
     },
     "execution_count": 3,
     "metadata": {},
     "output_type": "execute_result"
    }
   ],
   "source": [
    "df.tail()"
   ]
  },
  {
   "cell_type": "markdown",
   "id": "e8d3f1c8",
   "metadata": {},
   "source": [
    "## Understanding Data"
   ]
  },
  {
   "cell_type": "markdown",
   "id": "06f52970",
   "metadata": {},
   "source": [
    "Get a general information about the imported dataset."
   ]
  },
  {
   "cell_type": "code",
   "execution_count": 4,
   "id": "e3b8a0c4",
   "metadata": {},
   "outputs": [
    {
     "name": "stdout",
     "output_type": "stream",
     "text": [
      "<class 'pandas.core.frame.DataFrame'>\n",
      "RangeIndex: 3755 entries, 0 to 3754\n",
      "Data columns (total 11 columns):\n",
      " #   Column              Non-Null Count  Dtype \n",
      "---  ------              --------------  ----- \n",
      " 0   work_year           3755 non-null   int64 \n",
      " 1   experience_level    3755 non-null   object\n",
      " 2   employment_type     3755 non-null   object\n",
      " 3   job_title           3755 non-null   object\n",
      " 4   salary              3755 non-null   int64 \n",
      " 5   salary_currency     3755 non-null   object\n",
      " 6   salary_in_usd       3755 non-null   int64 \n",
      " 7   employee_residence  3755 non-null   object\n",
      " 8   remote_ratio        3755 non-null   int64 \n",
      " 9   company_location    3755 non-null   object\n",
      " 10  company_size        3755 non-null   object\n",
      "dtypes: int64(4), object(7)\n",
      "memory usage: 322.8+ KB\n"
     ]
    }
   ],
   "source": [
    "df.info()\n",
    "# there are total of 3755 data"
   ]
  },
  {
   "cell_type": "markdown",
   "id": "a3fbd473",
   "metadata": {},
   "source": [
    "From above we can see that we do not have any missing values. Now we further explore each variables. <br>\n",
    "Categorize each columns as qualitative and quantitaive variables."
   ]
  },
  {
   "cell_type": "code",
   "execution_count": 5,
   "id": "28f7dfdc",
   "metadata": {},
   "outputs": [
    {
     "name": "stdout",
     "output_type": "stream",
     "text": [
      "number of qualitative features:  7\n",
      "qualitative features are:  ['experience_level', 'employment_type', 'job_title', 'salary_currency', 'employee_residence', 'company_location', 'company_size']\n",
      "number of quantitative features:  4\n",
      "quantitative features are:  ['work_year', 'salary', 'salary_in_usd', 'remote_ratio']\n"
     ]
    }
   ],
   "source": [
    "numeric = ['int64']\n",
    "not_numeric = ['object']\n",
    "quantitative = []\n",
    "qualitative = []\n",
    "\n",
    "for col in df.columns:\n",
    "    if df[col].dtype in numeric:\n",
    "        quantitative.append(col)\n",
    "    else:\n",
    "        qualitative.append(col)\n",
    "\n",
    "print('number of qualitative features: ', len(qualitative))\n",
    "print('qualitative features are: ',qualitative)\n",
    "print('number of quantitative features: ', len(quantitative))\n",
    "print('quantitative features are: ',quantitative)"
   ]
  },
  {
   "cell_type": "code",
   "execution_count": 6,
   "id": "9c4ec202",
   "metadata": {},
   "outputs": [
    {
     "name": "stdout",
     "output_type": "stream",
     "text": [
      "number of unique entries of  experience_level :  4\n",
      " \n",
      "unique entries of  experience_level : \n",
      "['SE' 'MI' 'EN' 'EX']\n",
      "_____________________________________________________________\n",
      "number of unique entries of  employment_type :  4\n",
      " \n",
      "unique entries of  employment_type : \n",
      "['FT' 'CT' 'FL' 'PT']\n",
      "_____________________________________________________________\n",
      "number of unique entries of  job_title :  93\n",
      " \n",
      "unique entries of  job_title : \n",
      "['Principal Data Scientist' 'ML Engineer' 'Data Scientist'\n",
      " 'Applied Scientist' 'Data Analyst' 'Data Modeler' 'Research Engineer'\n",
      " 'Analytics Engineer' 'Business Intelligence Engineer'\n",
      " 'Machine Learning Engineer' 'Data Strategist' 'Data Engineer'\n",
      " 'Computer Vision Engineer' 'Data Quality Analyst'\n",
      " 'Compliance Data Analyst' 'Data Architect'\n",
      " 'Applied Machine Learning Engineer' 'AI Developer' 'Research Scientist'\n",
      " 'Data Analytics Manager' 'Business Data Analyst' 'Applied Data Scientist'\n",
      " 'Staff Data Analyst' 'ETL Engineer' 'Data DevOps Engineer' 'Head of Data'\n",
      " 'Data Science Manager' 'Data Manager' 'Machine Learning Researcher'\n",
      " 'Big Data Engineer' 'Data Specialist' 'Lead Data Analyst'\n",
      " 'BI Data Engineer' 'Director of Data Science'\n",
      " 'Machine Learning Scientist' 'MLOps Engineer' 'AI Scientist'\n",
      " 'Autonomous Vehicle Technician' 'Applied Machine Learning Scientist'\n",
      " 'Lead Data Scientist' 'Cloud Database Engineer' 'Financial Data Analyst'\n",
      " 'Data Infrastructure Engineer' 'Software Data Engineer' 'AI Programmer'\n",
      " 'Data Operations Engineer' 'BI Developer' 'Data Science Lead'\n",
      " 'Deep Learning Researcher' 'BI Analyst' 'Data Science Consultant'\n",
      " 'Data Analytics Specialist' 'Machine Learning Infrastructure Engineer'\n",
      " 'BI Data Analyst' 'Head of Data Science' 'Insight Analyst'\n",
      " 'Deep Learning Engineer' 'Machine Learning Software Engineer'\n",
      " 'Big Data Architect' 'Product Data Analyst'\n",
      " 'Computer Vision Software Engineer' 'Azure Data Engineer'\n",
      " 'Marketing Data Engineer' 'Data Analytics Lead' 'Data Lead'\n",
      " 'Data Science Engineer' 'Machine Learning Research Engineer'\n",
      " 'NLP Engineer' 'Manager Data Management' 'Machine Learning Developer'\n",
      " '3D Computer Vision Researcher' 'Principal Machine Learning Engineer'\n",
      " 'Data Analytics Engineer' 'Data Analytics Consultant'\n",
      " 'Data Management Specialist' 'Data Science Tech Lead'\n",
      " 'Data Scientist Lead' 'Cloud Data Engineer' 'Data Operations Analyst'\n",
      " 'Marketing Data Analyst' 'Power BI Developer' 'Product Data Scientist'\n",
      " 'Principal Data Architect' 'Machine Learning Manager'\n",
      " 'Lead Machine Learning Engineer' 'ETL Developer' 'Cloud Data Architect'\n",
      " 'Lead Data Engineer' 'Head of Machine Learning' 'Principal Data Analyst'\n",
      " 'Principal Data Engineer' 'Staff Data Scientist' 'Finance Data Analyst']\n",
      "_____________________________________________________________\n",
      "number of unique entries of  salary_currency :  20\n",
      " \n",
      "unique entries of  salary_currency : \n",
      "['EUR' 'USD' 'INR' 'HKD' 'CHF' 'GBP' 'AUD' 'SGD' 'CAD' 'ILS' 'BRL' 'THB'\n",
      " 'PLN' 'HUF' 'CZK' 'DKK' 'JPY' 'MXN' 'TRY' 'CLP']\n",
      "_____________________________________________________________\n",
      "number of unique entries of  employee_residence :  78\n",
      " \n",
      "unique entries of  employee_residence : \n",
      "['ES' 'US' 'CA' 'DE' 'GB' 'NG' 'IN' 'HK' 'PT' 'NL' 'CH' 'CF' 'FR' 'AU'\n",
      " 'FI' 'UA' 'IE' 'IL' 'GH' 'AT' 'CO' 'SG' 'SE' 'SI' 'MX' 'UZ' 'BR' 'TH'\n",
      " 'HR' 'PL' 'KW' 'VN' 'CY' 'AR' 'AM' 'BA' 'KE' 'GR' 'MK' 'LV' 'RO' 'PK'\n",
      " 'IT' 'MA' 'LT' 'BE' 'AS' 'IR' 'HU' 'SK' 'CN' 'CZ' 'CR' 'TR' 'CL' 'PR'\n",
      " 'DK' 'BO' 'PH' 'DO' 'EG' 'ID' 'AE' 'MY' 'JP' 'EE' 'HN' 'TN' 'RU' 'DZ'\n",
      " 'IQ' 'BG' 'JE' 'RS' 'NZ' 'MD' 'LU' 'MT']\n",
      "_____________________________________________________________\n",
      "number of unique entries of  company_location :  72\n",
      " \n",
      "unique entries of  company_location : \n",
      "['ES' 'US' 'CA' 'DE' 'GB' 'NG' 'IN' 'HK' 'NL' 'CH' 'CF' 'FR' 'FI' 'UA'\n",
      " 'IE' 'IL' 'GH' 'CO' 'SG' 'AU' 'SE' 'SI' 'MX' 'BR' 'PT' 'RU' 'TH' 'HR'\n",
      " 'VN' 'EE' 'AM' 'BA' 'KE' 'GR' 'MK' 'LV' 'RO' 'PK' 'IT' 'MA' 'PL' 'AL'\n",
      " 'AR' 'LT' 'AS' 'CR' 'IR' 'BS' 'HU' 'AT' 'SK' 'CZ' 'TR' 'PR' 'DK' 'BO'\n",
      " 'PH' 'BE' 'ID' 'EG' 'AE' 'LU' 'MY' 'HN' 'JP' 'DZ' 'IQ' 'CN' 'NZ' 'CL'\n",
      " 'MD' 'MT']\n",
      "_____________________________________________________________\n",
      "number of unique entries of  company_size :  3\n",
      " \n",
      "unique entries of  company_size : \n",
      "['L' 'S' 'M']\n",
      "_____________________________________________________________\n"
     ]
    }
   ],
   "source": [
    "# check unqiue values of quantitative and qualitative variables\n",
    "# first qualitative variables\n",
    "for col in qualitative:\n",
    "    print('number of unique entries of ', col,': ', len(df[col].unique()))\n",
    "    print(' ')\n",
    "    print('unique entries of ', col,': ')\n",
    "    print(df[col].unique())\n",
    "    print('_____________________________________________________________')"
   ]
  },
  {
   "cell_type": "markdown",
   "id": "61c261c3",
   "metadata": {},
   "source": [
    "## Data Transformation"
   ]
  },
  {
   "cell_type": "markdown",
   "id": "9ea8495a",
   "metadata": {},
   "source": [
    "Make Data Science related position titles into four categories for better insights"
   ]
  },
  {
   "cell_type": "code",
   "execution_count": 7,
   "id": "bfadb2ab",
   "metadata": {},
   "outputs": [],
   "source": [
    "analyst =[] # data analyst, buisnes analyst, BI developer\n",
    "data_scientist = [] # data scientist, data head, data lead, AI scientiest,3D Computer Vision Researcher\n",
    "engineer = [] # any job title including engineer, data architect, ETL developer, data modeler\n",
    "developer = []\n",
    "\n",
    "for job in df['job_title'].unique():\n",
    "    if 'Scientist' in job:\n",
    "        data_scientist.append(job)\n",
    "    elif 'Data Science' in job:\n",
    "        data_scientist.append(job)\n",
    "    elif job in ['AI Programmer', 'Head of Data', 'Autonomous Vehicle Technician','Data Strategist',\n",
    "                 'Data Manager', 'Data Lead', 'Head of Machine Learning', 'Machine Learning Manager',\n",
    "                'Data Specialist']:\n",
    "        data_scientist.append(job)\n",
    "    elif 'Analyst' in job:\n",
    "        analyst.append(job)\n",
    "    elif 'Analytics' in job:\n",
    "        analyst.append(job)\n",
    "    elif  'Engineer' in job:\n",
    "        engineer.append(job)\n",
    "    elif job in ['Data Management Specialist','Manager Data Management', 'Data Modeler']:\n",
    "        engineer.append(job)\n",
    "    elif 'Developer' in job:\n",
    "        developer.append(job)\n",
    "    elif 'Architect' in job:\n",
    "        developer.append(job)\n",
    "    elif 'Researcher' in job:\n",
    "        developer.append(job)"
   ]
  },
  {
   "cell_type": "markdown",
   "id": "33106afc",
   "metadata": {},
   "source": [
    "Create a new column called 'job_category' showing category of job for each position title of each data."
   ]
  },
  {
   "cell_type": "code",
   "execution_count": 8,
   "id": "1a9ee73b",
   "metadata": {},
   "outputs": [
    {
     "name": "stderr",
     "output_type": "stream",
     "text": [
      "/var/folders/cy/j205pskx0zx83x7sz14l4jhw0000gn/T/ipykernel_75209/309917671.py:7: SettingWithCopyWarning: \n",
      "A value is trying to be set on a copy of a slice from a DataFrame\n",
      "\n",
      "See the caveats in the documentation: https://pandas.pydata.org/pandas-docs/stable/user_guide/indexing.html#returning-a-view-versus-a-copy\n",
      "  df['job_category'][i] = 'Data Scientist'\n"
     ]
    }
   ],
   "source": [
    "#create new column using above classification\n",
    "df['job_category'] = np.zeros(len(df))\n",
    "for i in range(len(df)):\n",
    "    if df['job_title'][i] in analyst:\n",
    "        df['job_category'][i] = 'Analyst'\n",
    "    elif df['job_title'][i] in data_scientist:\n",
    "        df['job_category'][i] = 'Data Scientist'\n",
    "    elif df['job_title'][i] in engineer:\n",
    "        df['job_category'][i] = 'Data Engineer'\n",
    "    elif df['job_title'][i] in developer:\n",
    "        df['job_category'][i] = 'Developer/Researcher'"
   ]
  },
  {
   "cell_type": "markdown",
   "id": "b1d265d9",
   "metadata": {},
   "source": [
    "experience_level:\n",
    "\n",
    "- SE: Senior\n",
    "- EX: Executive\n",
    "- MI: Mid Level\n",
    "- EN: Entry Level\n",
    "\n",
    "employment_type:\n",
    "\n",
    "- FT: Full-time\n",
    "- PT: Part-time\n",
    "- CT: Contractor\n",
    "- FL: Freelancer"
   ]
  },
  {
   "cell_type": "markdown",
   "id": "4bae1b8c",
   "metadata": {},
   "source": [
    "Then, change experience level and employment type as above to make it easier to see on the visualization."
   ]
  },
  {
   "cell_type": "code",
   "execution_count": 9,
   "id": "cf4d8917",
   "metadata": {},
   "outputs": [],
   "source": [
    "exp_lev = {'SE' : 'Senior', 'EX': 'Executive', 'MI' : 'Mid Level', 'EN' : 'Entry Level'}\n",
    "emp_type = {'FT' : 'Full-time', 'PT' : 'Part-time', 'CT' : 'Contractor', 'FL' : 'Freelancer'}\n",
    "\n",
    "df['experience_level'].replace(exp_lev, inplace=True)\n",
    "df['employment_type'].replace(emp_type, inplace=True)"
   ]
  },
  {
   "cell_type": "markdown",
   "id": "b9361fda",
   "metadata": {},
   "source": [
    "Check if above worked well"
   ]
  },
  {
   "cell_type": "code",
   "execution_count": 10,
   "id": "cb9dd3f6",
   "metadata": {},
   "outputs": [
    {
     "name": "stdout",
     "output_type": "stream",
     "text": [
      "['Senior' 'Mid Level' 'Entry Level' 'Executive']\n",
      "['Full-time' 'Contractor' 'Freelancer' 'Part-time']\n"
     ]
    }
   ],
   "source": [
    "print(df['experience_level'].unique())\n",
    "print(df['employment_type'].unique())"
   ]
  },
  {
   "cell_type": "markdown",
   "id": "77929585",
   "metadata": {},
   "source": [
    "Now change country code to country name. <br>\n",
    "To do so, make them into a dictionary. I used https://www.iban.com/country-codes for reference."
   ]
  },
  {
   "cell_type": "code",
   "execution_count": 11,
   "id": "e6eb0eae",
   "metadata": {},
   "outputs": [],
   "source": [
    "country_dict = {'ES':'Spain','US':'United States', 'CA':'Canada', 'DE':'Germany','GB':'United Kingdom',\n",
    "                'NG':'Nigeria', 'IN':'India', 'HK':'Hong Kong', 'PT':'Portugal','NL':'Netherlands', \n",
    "                'CH':'Switzerland', 'CF':'Central African Republic', 'FR':'France', 'AU': 'Australia',\n",
    "                'FI':'Finland', 'UA':'Ukraine', 'IE':'Ireland', 'IL':'Israel', 'GH':'Ghana', 'AT':'Austria',\n",
    "                'CO':'Colombia', 'SG':'Singapore', 'SE':'Sweden', 'SI':'Slovenia', 'MX':'Mexico', 'UZ':'Uzbekistan',\n",
    "                'BR':'Brazil', 'TH':'Thailand', 'HR': 'Croatia', 'PL':'Poland', 'KW':'Kuwait', 'VN':'Viet Nam',\n",
    "                'CY':'Cyprus', 'AR':'Argentina', 'AM':'Armenia', 'BA':'Bosnia and Herzegovina', 'KE':'Kenya',\n",
    "                'GR':'Greece', 'MK':'Macedonia', 'LV':'Latvia', 'RO':'Romania', 'PK':'Pakistan', 'IT':'Italy',\n",
    "                'MA':'Morocco', 'LT':'Lithuania', 'BE':'Belgium', 'AS':'American Samoa', 'IR':'Iran', \n",
    "                'HU':'Hungary', 'SK':'Slovakia', 'CN':'China', 'CZ':'Czech Republic', 'CR':'Costa Rica', \n",
    "                'TR':'Turkey', 'CL':'Chile', 'PR':'Puerto Rico', 'DK':'Denmark', 'BO':'Bolivia',\n",
    "                'PH':'Philippines', 'DO':'Dominican Republic', 'EG':'Egypt', 'ID':'Indonesia', 'AE':'United Arab Emirates',\n",
    "                'MY':'Malaysia', 'JP':'Japan', 'EE':'Estonia', 'HN':'Honduras', 'TN':'Tunisia', 'RU':'Russian Federation',\n",
    "                'DZ':'Algeria', 'IQ':'Iraq', 'BG':'Bulgaria', 'JE':'Jersey', 'RS':'Serbia', 'NZ':'New Zealand',\n",
    "                'MD':'Moldova, Republic of', 'LU':'Luxembourg', 'MT':'Malta','AL':'Albania','BS':'Bahamas'}"
   ]
  },
  {
   "cell_type": "code",
   "execution_count": 12,
   "id": "af939bc0",
   "metadata": {},
   "outputs": [],
   "source": [
    "df['company_location'].replace(country_dict, inplace=True)\n",
    "df['employee_residence'].replace(country_dict, inplace=True)"
   ]
  },
  {
   "cell_type": "code",
   "execution_count": 13,
   "id": "bed9fc67",
   "metadata": {},
   "outputs": [
    {
     "data": {
      "text/plain": [
       "array(['Spain', 'United States', 'Canada', 'Germany', 'United Kingdom',\n",
       "       'Nigeria', 'India', 'Hong Kong', 'Netherlands', 'Switzerland',\n",
       "       'Central African Republic', 'France', 'Finland', 'Ukraine',\n",
       "       'Ireland', 'Israel', 'Ghana', 'Colombia', 'Singapore', 'Australia',\n",
       "       'Sweden', 'Slovenia', 'Mexico', 'Brazil', 'Portugal',\n",
       "       'Russian Federation', 'Thailand', 'Croatia', 'Viet Nam', 'Estonia',\n",
       "       'Armenia', 'Bosnia and Herzegovina', 'Kenya', 'Greece',\n",
       "       'Macedonia', 'Latvia', 'Romania', 'Pakistan', 'Italy', 'Morocco',\n",
       "       'Poland', 'Albania', 'Argentina', 'Lithuania', 'American Samoa',\n",
       "       'Costa Rica', 'Iran', 'Bahamas', 'Hungary', 'Austria', 'Slovakia',\n",
       "       'Czech Republic', 'Turkey', 'Puerto Rico', 'Denmark', 'Bolivia',\n",
       "       'Philippines', 'Belgium', 'Indonesia', 'Egypt',\n",
       "       'United Arab Emirates', 'Luxembourg', 'Malaysia', 'Honduras',\n",
       "       'Japan', 'Algeria', 'Iraq', 'China', 'New Zealand', 'Chile',\n",
       "       'Moldova, Republic of', 'Malta'], dtype=object)"
      ]
     },
     "execution_count": 13,
     "metadata": {},
     "output_type": "execute_result"
    }
   ],
   "source": [
    "df['company_location'].unique()"
   ]
  },
  {
   "cell_type": "code",
   "execution_count": 14,
   "id": "1407a10a",
   "metadata": {},
   "outputs": [
    {
     "data": {
      "text/plain": [
       "array(['Spain', 'United States', 'Canada', 'Germany', 'United Kingdom',\n",
       "       'Nigeria', 'India', 'Hong Kong', 'Portugal', 'Netherlands',\n",
       "       'Switzerland', 'Central African Republic', 'France', 'Australia',\n",
       "       'Finland', 'Ukraine', 'Ireland', 'Israel', 'Ghana', 'Austria',\n",
       "       'Colombia', 'Singapore', 'Sweden', 'Slovenia', 'Mexico',\n",
       "       'Uzbekistan', 'Brazil', 'Thailand', 'Croatia', 'Poland', 'Kuwait',\n",
       "       'Viet Nam', 'Cyprus', 'Argentina', 'Armenia',\n",
       "       'Bosnia and Herzegovina', 'Kenya', 'Greece', 'Macedonia', 'Latvia',\n",
       "       'Romania', 'Pakistan', 'Italy', 'Morocco', 'Lithuania', 'Belgium',\n",
       "       'American Samoa', 'Iran', 'Hungary', 'Slovakia', 'China',\n",
       "       'Czech Republic', 'Costa Rica', 'Turkey', 'Chile', 'Puerto Rico',\n",
       "       'Denmark', 'Bolivia', 'Philippines', 'Dominican Republic', 'Egypt',\n",
       "       'Indonesia', 'United Arab Emirates', 'Malaysia', 'Japan',\n",
       "       'Estonia', 'Honduras', 'Tunisia', 'Russian Federation', 'Algeria',\n",
       "       'Iraq', 'Bulgaria', 'Jersey', 'Serbia', 'New Zealand',\n",
       "       'Moldova, Republic of', 'Luxembourg', 'Malta'], dtype=object)"
      ]
     },
     "execution_count": 14,
     "metadata": {},
     "output_type": "execute_result"
    }
   ],
   "source": [
    "df['employee_residence'].unique()"
   ]
  },
  {
   "cell_type": "markdown",
   "id": "ecb710f5",
   "metadata": {},
   "source": [
    "## Exporting Data"
   ]
  },
  {
   "cell_type": "markdown",
   "id": "10a03c18",
   "metadata": {},
   "source": [
    "Now export the dataframe as csv for visaulization on Tableau"
   ]
  },
  {
   "cell_type": "code",
   "execution_count": 15,
   "id": "73b8ca70",
   "metadata": {},
   "outputs": [],
   "source": [
    "df.to_csv('/Users/wootaekkim/Desktop/youtube learning/ds_salary_tableau.csv')"
   ]
  }
 ],
 "metadata": {
  "kernelspec": {
   "display_name": "Python 3 (ipykernel)",
   "language": "python",
   "name": "python3"
  },
  "language_info": {
   "codemirror_mode": {
    "name": "ipython",
    "version": 3
   },
   "file_extension": ".py",
   "mimetype": "text/x-python",
   "name": "python",
   "nbconvert_exporter": "python",
   "pygments_lexer": "ipython3",
   "version": "3.9.16"
  }
 },
 "nbformat": 4,
 "nbformat_minor": 5
}
